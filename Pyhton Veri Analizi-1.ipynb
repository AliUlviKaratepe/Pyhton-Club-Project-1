{
  "metadata": {
    "kernelspec": {
      "name": "python",
      "display_name": "Python (Pyodide)",
      "language": "python"
    },
    "language_info": {
      "codemirror_mode": {
        "name": "python",
        "version": 3
      },
      "file_extension": ".py",
      "mimetype": "text/x-python",
      "name": "python",
      "nbconvert_exporter": "python",
      "pygments_lexer": "ipython3",
      "version": "3.8"
    }
  },
  "nbformat_minor": 4,
  "nbformat": 4,
  "cells": [
    {
      "cell_type": "markdown",
      "source": "# Pyhton ile Veri Analizi Çalışması",
      "metadata": {}
    },
    {
      "cell_type": "markdown",
      "source": "### Pandas Kütüphanesini içeri Aktarma",
      "metadata": {}
    },
    {
      "cell_type": "code",
      "source": "import pandas as pd",
      "metadata": {
        "trusted": true
      },
      "outputs": [],
      "execution_count": 4
    },
    {
      "cell_type": "markdown",
      "source": "### CSV Belgesini Okuma Ve Çalıştırma",
      "metadata": {}
    },
    {
      "cell_type": "code",
      "source": "df = pd.read_csv(\"pyhton.csv\")",
      "metadata": {
        "trusted": true
      },
      "outputs": [],
      "execution_count": 5
    },
    {
      "cell_type": "code",
      "source": "df",
      "metadata": {
        "trusted": true
      },
      "outputs": [
        {
          "execution_count": 6,
          "output_type": "execute_result",
          "data": {
            "text/plain": "           Adı      Stand İsmi Cinsiyet\n0  Jotaro Kujo  Star Platinium    Erkek\n1        Pucci   Made İn Haven    Erkek\n2        Ermes            Kiss    Kadın\n3  Vanilla İce           Cream    Erkek\n4          Dio       Za Warudo     Adam\n5         Fugo     Purple Haze    Erkek\n6  Jolyne Kujo      Stone Free    Kadın",
            "text/html": "<div>\n<style scoped>\n    .dataframe tbody tr th:only-of-type {\n        vertical-align: middle;\n    }\n\n    .dataframe tbody tr th {\n        vertical-align: top;\n    }\n\n    .dataframe thead th {\n        text-align: right;\n    }\n</style>\n<table border=\"1\" class=\"dataframe\">\n  <thead>\n    <tr style=\"text-align: right;\">\n      <th></th>\n      <th>Adı</th>\n      <th>Stand İsmi</th>\n      <th>Cinsiyet</th>\n    </tr>\n  </thead>\n  <tbody>\n    <tr>\n      <th>0</th>\n      <td>Jotaro Kujo</td>\n      <td>Star Platinium</td>\n      <td>Erkek</td>\n    </tr>\n    <tr>\n      <th>1</th>\n      <td>Pucci</td>\n      <td>Made İn Haven</td>\n      <td>Erkek</td>\n    </tr>\n    <tr>\n      <th>2</th>\n      <td>Ermes</td>\n      <td>Kiss</td>\n      <td>Kadın</td>\n    </tr>\n    <tr>\n      <th>3</th>\n      <td>Vanilla İce</td>\n      <td>Cream</td>\n      <td>Erkek</td>\n    </tr>\n    <tr>\n      <th>4</th>\n      <td>Dio</td>\n      <td>Za Warudo</td>\n      <td>Adam</td>\n    </tr>\n    <tr>\n      <th>5</th>\n      <td>Fugo</td>\n      <td>Purple Haze</td>\n      <td>Erkek</td>\n    </tr>\n    <tr>\n      <th>6</th>\n      <td>Jolyne Kujo</td>\n      <td>Stone Free</td>\n      <td>Kadın</td>\n    </tr>\n  </tbody>\n</table>\n</div>"
          },
          "metadata": {}
        }
      ],
      "execution_count": 6
    },
    {
      "cell_type": "markdown",
      "source": "### Belge içerisinden istediğimiz Bilgiyi Almak",
      "metadata": {}
    },
    {
      "cell_type": "code",
      "source": "df=df.where(df[\"Cinsiyet\"]==\"Erkek\")",
      "metadata": {
        "trusted": true
      },
      "outputs": [],
      "execution_count": 6
    },
    {
      "cell_type": "code",
      "source": "df",
      "metadata": {
        "trusted": true
      },
      "outputs": [
        {
          "execution_count": 7,
          "output_type": "execute_result",
          "data": {
            "text/plain": "           Adı      Stand İsmi Cinsiyet\n0  Jotaro Kujo  Star Platinium    Erkek\n1        Pucci   Made İn Haven    Erkek\n2          NaN             NaN      NaN\n3  Vanilla İce           Cream    Erkek\n4          NaN             NaN      NaN\n5         Fugo     Purple Haze    Erkek\n6          NaN             NaN      NaN",
            "text/html": "<div>\n<style scoped>\n    .dataframe tbody tr th:only-of-type {\n        vertical-align: middle;\n    }\n\n    .dataframe tbody tr th {\n        vertical-align: top;\n    }\n\n    .dataframe thead th {\n        text-align: right;\n    }\n</style>\n<table border=\"1\" class=\"dataframe\">\n  <thead>\n    <tr style=\"text-align: right;\">\n      <th></th>\n      <th>Adı</th>\n      <th>Stand İsmi</th>\n      <th>Cinsiyet</th>\n    </tr>\n  </thead>\n  <tbody>\n    <tr>\n      <th>0</th>\n      <td>Jotaro Kujo</td>\n      <td>Star Platinium</td>\n      <td>Erkek</td>\n    </tr>\n    <tr>\n      <th>1</th>\n      <td>Pucci</td>\n      <td>Made İn Haven</td>\n      <td>Erkek</td>\n    </tr>\n    <tr>\n      <th>2</th>\n      <td>NaN</td>\n      <td>NaN</td>\n      <td>NaN</td>\n    </tr>\n    <tr>\n      <th>3</th>\n      <td>Vanilla İce</td>\n      <td>Cream</td>\n      <td>Erkek</td>\n    </tr>\n    <tr>\n      <th>4</th>\n      <td>NaN</td>\n      <td>NaN</td>\n      <td>NaN</td>\n    </tr>\n    <tr>\n      <th>5</th>\n      <td>Fugo</td>\n      <td>Purple Haze</td>\n      <td>Erkek</td>\n    </tr>\n    <tr>\n      <th>6</th>\n      <td>NaN</td>\n      <td>NaN</td>\n      <td>NaN</td>\n    </tr>\n  </tbody>\n</table>\n</div>"
          },
          "metadata": {}
        }
      ],
      "execution_count": 7
    },
    {
      "cell_type": "markdown",
      "source": "### Veri Setimizin Satır Sayısını Bulmak",
      "metadata": {}
    },
    {
      "cell_type": "code",
      "source": "len(df)",
      "metadata": {
        "trusted": true
      },
      "outputs": [
        {
          "execution_count": 9,
          "output_type": "execute_result",
          "data": {
            "text/plain": "7"
          },
          "metadata": {}
        }
      ],
      "execution_count": 9
    },
    {
      "cell_type": "markdown",
      "source": "### Veri Setimize Yeni Bir Satır Olarak İstediğimiz Yeni Bilgileri Eklemek",
      "metadata": {}
    },
    {
      "cell_type": "code",
      "source": "df.loc[len(df.index)] = [\"Giorno\",\"Golden Experience\",\"Erkek\"]",
      "metadata": {
        "trusted": true
      },
      "outputs": [],
      "execution_count": 13
    },
    {
      "cell_type": "code",
      "source": "df",
      "metadata": {
        "trusted": true
      },
      "outputs": [
        {
          "execution_count": 14,
          "output_type": "execute_result",
          "data": {
            "text/plain": "           Adı         Stand İsmi Cinsiyet\n0  Jotaro Kujo     Star Platinium    Erkek\n1        Pucci      Made İn Haven    Erkek\n2          NaN                NaN      NaN\n3  Vanilla İce              Cream    Erkek\n4          NaN                NaN      NaN\n5         Fugo        Purple Haze    Erkek\n6          NaN                NaN      NaN\n7       Giorno  Golden Experience    Erkek",
            "text/html": "<div>\n<style scoped>\n    .dataframe tbody tr th:only-of-type {\n        vertical-align: middle;\n    }\n\n    .dataframe tbody tr th {\n        vertical-align: top;\n    }\n\n    .dataframe thead th {\n        text-align: right;\n    }\n</style>\n<table border=\"1\" class=\"dataframe\">\n  <thead>\n    <tr style=\"text-align: right;\">\n      <th></th>\n      <th>Adı</th>\n      <th>Stand İsmi</th>\n      <th>Cinsiyet</th>\n    </tr>\n  </thead>\n  <tbody>\n    <tr>\n      <th>0</th>\n      <td>Jotaro Kujo</td>\n      <td>Star Platinium</td>\n      <td>Erkek</td>\n    </tr>\n    <tr>\n      <th>1</th>\n      <td>Pucci</td>\n      <td>Made İn Haven</td>\n      <td>Erkek</td>\n    </tr>\n    <tr>\n      <th>2</th>\n      <td>NaN</td>\n      <td>NaN</td>\n      <td>NaN</td>\n    </tr>\n    <tr>\n      <th>3</th>\n      <td>Vanilla İce</td>\n      <td>Cream</td>\n      <td>Erkek</td>\n    </tr>\n    <tr>\n      <th>4</th>\n      <td>NaN</td>\n      <td>NaN</td>\n      <td>NaN</td>\n    </tr>\n    <tr>\n      <th>5</th>\n      <td>Fugo</td>\n      <td>Purple Haze</td>\n      <td>Erkek</td>\n    </tr>\n    <tr>\n      <th>6</th>\n      <td>NaN</td>\n      <td>NaN</td>\n      <td>NaN</td>\n    </tr>\n    <tr>\n      <th>7</th>\n      <td>Giorno</td>\n      <td>Golden Experience</td>\n      <td>Erkek</td>\n    </tr>\n  </tbody>\n</table>\n</div>"
          },
          "metadata": {}
        }
      ],
      "execution_count": 14
    },
    {
      "cell_type": "markdown",
      "source": "### \"Head\" Komutu ile Baştan Başlayarak İstediğimiz Sayıda Satırı Almak\n",
      "metadata": {}
    },
    {
      "cell_type": "code",
      "source": "df.head(2)",
      "metadata": {
        "trusted": true
      },
      "outputs": [
        {
          "execution_count": 16,
          "output_type": "execute_result",
          "data": {
            "text/plain": "           Adı      Stand İsmi Cinsiyet\n0  Jotaro Kujo  Star Platinium    Erkek\n1        Pucci   Made İn Haven    Erkek",
            "text/html": "<div>\n<style scoped>\n    .dataframe tbody tr th:only-of-type {\n        vertical-align: middle;\n    }\n\n    .dataframe tbody tr th {\n        vertical-align: top;\n    }\n\n    .dataframe thead th {\n        text-align: right;\n    }\n</style>\n<table border=\"1\" class=\"dataframe\">\n  <thead>\n    <tr style=\"text-align: right;\">\n      <th></th>\n      <th>Adı</th>\n      <th>Stand İsmi</th>\n      <th>Cinsiyet</th>\n    </tr>\n  </thead>\n  <tbody>\n    <tr>\n      <th>0</th>\n      <td>Jotaro Kujo</td>\n      <td>Star Platinium</td>\n      <td>Erkek</td>\n    </tr>\n    <tr>\n      <th>1</th>\n      <td>Pucci</td>\n      <td>Made İn Haven</td>\n      <td>Erkek</td>\n    </tr>\n  </tbody>\n</table>\n</div>"
          },
          "metadata": {}
        }
      ],
      "execution_count": 16
    },
    {
      "cell_type": "markdown",
      "source": "### \"Tail\" Komutu ile Sondan Başlayarak İstediğimiz Sayıda Satır Almak",
      "metadata": {}
    },
    {
      "cell_type": "code",
      "source": "df.tail(2)",
      "metadata": {
        "trusted": true
      },
      "outputs": [
        {
          "execution_count": 18,
          "output_type": "execute_result",
          "data": {
            "text/plain": "      Adı         Stand İsmi Cinsiyet\n6     NaN                NaN      NaN\n7  Giorno  Golden Experience    Erkek",
            "text/html": "<div>\n<style scoped>\n    .dataframe tbody tr th:only-of-type {\n        vertical-align: middle;\n    }\n\n    .dataframe tbody tr th {\n        vertical-align: top;\n    }\n\n    .dataframe thead th {\n        text-align: right;\n    }\n</style>\n<table border=\"1\" class=\"dataframe\">\n  <thead>\n    <tr style=\"text-align: right;\">\n      <th></th>\n      <th>Adı</th>\n      <th>Stand İsmi</th>\n      <th>Cinsiyet</th>\n    </tr>\n  </thead>\n  <tbody>\n    <tr>\n      <th>6</th>\n      <td>NaN</td>\n      <td>NaN</td>\n      <td>NaN</td>\n    </tr>\n    <tr>\n      <th>7</th>\n      <td>Giorno</td>\n      <td>Golden Experience</td>\n      <td>Erkek</td>\n    </tr>\n  </tbody>\n</table>\n</div>"
          },
          "metadata": {}
        }
      ],
      "execution_count": 18
    },
    {
      "cell_type": "markdown",
      "source": "### Veri Setimizi istediğimiz Değer Göre Sıralamak",
      "metadata": {}
    },
    {
      "cell_type": "code",
      "source": "df.sort_values(by=\"Adı\" , ascending=True)",
      "metadata": {
        "trusted": true
      },
      "outputs": [
        {
          "execution_count": 22,
          "output_type": "execute_result",
          "data": {
            "text/plain": "           Adı         Stand İsmi Cinsiyet\n5         Fugo        Purple Haze    Erkek\n7       Giorno  Golden Experience    Erkek\n0  Jotaro Kujo     Star Platinium    Erkek\n1        Pucci      Made İn Haven    Erkek\n3  Vanilla İce              Cream    Erkek\n2          NaN                NaN      NaN\n4          NaN                NaN      NaN\n6          NaN                NaN      NaN",
            "text/html": "<div>\n<style scoped>\n    .dataframe tbody tr th:only-of-type {\n        vertical-align: middle;\n    }\n\n    .dataframe tbody tr th {\n        vertical-align: top;\n    }\n\n    .dataframe thead th {\n        text-align: right;\n    }\n</style>\n<table border=\"1\" class=\"dataframe\">\n  <thead>\n    <tr style=\"text-align: right;\">\n      <th></th>\n      <th>Adı</th>\n      <th>Stand İsmi</th>\n      <th>Cinsiyet</th>\n    </tr>\n  </thead>\n  <tbody>\n    <tr>\n      <th>5</th>\n      <td>Fugo</td>\n      <td>Purple Haze</td>\n      <td>Erkek</td>\n    </tr>\n    <tr>\n      <th>7</th>\n      <td>Giorno</td>\n      <td>Golden Experience</td>\n      <td>Erkek</td>\n    </tr>\n    <tr>\n      <th>0</th>\n      <td>Jotaro Kujo</td>\n      <td>Star Platinium</td>\n      <td>Erkek</td>\n    </tr>\n    <tr>\n      <th>1</th>\n      <td>Pucci</td>\n      <td>Made İn Haven</td>\n      <td>Erkek</td>\n    </tr>\n    <tr>\n      <th>3</th>\n      <td>Vanilla İce</td>\n      <td>Cream</td>\n      <td>Erkek</td>\n    </tr>\n    <tr>\n      <th>2</th>\n      <td>NaN</td>\n      <td>NaN</td>\n      <td>NaN</td>\n    </tr>\n    <tr>\n      <th>4</th>\n      <td>NaN</td>\n      <td>NaN</td>\n      <td>NaN</td>\n    </tr>\n    <tr>\n      <th>6</th>\n      <td>NaN</td>\n      <td>NaN</td>\n      <td>NaN</td>\n    </tr>\n  </tbody>\n</table>\n</div>"
          },
          "metadata": {}
        }
      ],
      "execution_count": 22
    }
  ]
}